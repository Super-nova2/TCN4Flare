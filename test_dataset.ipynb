{
 "cells": [
  {
   "cell_type": "code",
   "execution_count": 1,
   "id": "0ee64d5c",
   "metadata": {},
   "outputs": [
    {
     "name": "stderr",
     "output_type": "stream",
     "text": [
      "2025-04-14 16:57:06.991601: I tensorflow/core/platform/cpu_feature_guard.cc:182] This TensorFlow binary is optimized to use available CPU instructions in performance-critical operations.\n",
      "To enable the following instructions: AVX2 FMA, in other operations, rebuild TensorFlow with the appropriate compiler flags.\n",
      "2025-04-14 16:57:07.686947: W tensorflow/compiler/tf2tensorrt/utils/py_utils.cc:38] TF-TRT Warning: Could not find TensorRT\n",
      "/home/supernova/anaconda3/envs/tensorflow/lib/python3.10/site-packages/tensorflow_addons/utils/tfa_eol_msg.py:23: UserWarning: \n",
      "\n",
      "TensorFlow Addons (TFA) has ended development and introduction of new features.\n",
      "TFA has entered a minimal maintenance and release mode until a planned end of life in May 2024.\n",
      "Please modify downstream libraries to take dependencies from other repositories in our TensorFlow community (e.g. Keras, Keras-CV, and Keras-NLP). \n",
      "\n",
      "For more information see: https://github.com/tensorflow/addons/issues/2807 \n",
      "\n",
      "  warnings.warn(\n",
      "/home/supernova/anaconda3/envs/tensorflow/lib/python3.10/site-packages/tensorflow_addons/utils/ensure_tf_install.py:53: UserWarning: Tensorflow Addons supports using Python ops for all Tensorflow versions above or equal to 2.13.0 and strictly below 2.16.0 (nightly versions are not supported). \n",
      " The versions of TensorFlow you are currently using is 2.12.0 and is not supported. \n",
      "Some things might work, some things might not.\n",
      "If you were to encounter a bug, do not file an issue.\n",
      "If you want to make sure you're using a tested and supported configuration, either change the TensorFlow version or the TensorFlow Addons's version. \n",
      "You can find the compatibility matrix in TensorFlow Addon's readme:\n",
      "https://github.com/tensorflow/addons\n",
      "  warnings.warn(\n"
     ]
    }
   ],
   "source": [
    "from utils import *\n",
    "from model import *\n",
    "from dataset import *"
   ]
  },
  {
   "cell_type": "code",
   "execution_count": null,
   "id": "168e435a",
   "metadata": {},
   "outputs": [],
   "source": [
    "file_path = r'./TCN4Flare_agn_data/'\n",
    "sub_path = 'ztf_agns/'\n",
    "data_path = r'./TCN4Flare_agn_data/dataset/'"
   ]
  },
  {
   "cell_type": "code",
   "execution_count": null,
   "id": "5af95003",
   "metadata": {},
   "outputs": [
    {
     "name": "stdout",
     "output_type": "stream",
     "text": [
      "(212, 2142, 3)\n",
      "(212, 8)\n"
     ]
    }
   ],
   "source": [
    "test_flare_dataset = FlareDataset(file_path, sub_path, data_path)\n",
    "\n",
    "flare_dataset, flare_params = test_flare_dataset.extarct_data_insert_flares('zg')\n",
    "print(flare_dataset.shape)\n",
    "print(flare_params.shape)\n",
    "print(flare_params[:5])"
   ]
  },
  {
   "cell_type": "code",
   "execution_count": null,
   "id": "04b1efc9",
   "metadata": {},
   "outputs": [
    {
     "name": "stdout",
     "output_type": "stream",
     "text": [
      "(212, 2142, 3)\n",
      "(212, 3)\n",
      "188\n"
     ]
    }
   ],
   "source": [
    "test_dataset = dataset(file_path, sub_path, data_path)\n",
    "raw_dataset, agn_params, empty_files = test_dataset.extract_data('zg')\n",
    "\n",
    "print(raw_dataset.shape)\n",
    "print(agn_params.shape)\n",
    "print(len(empty_files))"
   ]
  },
  {
   "cell_type": "code",
   "execution_count": 5,
   "id": "9e40f4e1",
   "metadata": {},
   "outputs": [
    {
     "name": "stdout",
     "output_type": "stream",
     "text": [
      "(212, 2167, 3)\n",
      "(212, 5)\n",
      "(0,)\n"
     ]
    }
   ],
   "source": [
    "fit_dataset, agn_params, fail_agns = test_dataset.GP_fit_raw_dataset('zg', raw_dataset, agn_params)\n",
    "print(fit_dataset.shape)\n",
    "print(agn_params.shape)\n",
    "print(fail_agns.shape)"
   ]
  },
  {
   "cell_type": "code",
   "execution_count": null,
   "id": "2b05f0b4",
   "metadata": {},
   "outputs": [
    {
     "name": "stdout",
     "output_type": "stream",
     "text": [
      "(705, 2167, 3) (19710, 2167, 3)\n",
      "(1000, 2167, 3) (1000,)\n"
     ]
    }
   ],
   "source": [
    "flare_dataset_all = np.load(r'./data/fit_checked_flares.npz')\n",
    "flare_dataset = flare_dataset_all['data']\n",
    "noflare_dataset = np.load(r'./data/fit_checked_noflares.npy')\n",
    "print(flare_dataset.shape, noflare_dataset.shape)\n",
    "\n",
    "train_dataset , train_labels = build_dataset(flare_dataset, noflare_dataset, save_path=r'./data/', save_name='test_dataset', ratio=0.1, num = 1000)\n",
    "\n",
    "print(train_dataset.shape, train_labels.shape)"
   ]
  }
 ],
 "metadata": {
  "kernelspec": {
   "display_name": "tensorflow",
   "language": "python",
   "name": "python3"
  },
  "language_info": {
   "codemirror_mode": {
    "name": "ipython",
    "version": 3
   },
   "file_extension": ".py",
   "mimetype": "text/x-python",
   "name": "python",
   "nbconvert_exporter": "python",
   "pygments_lexer": "ipython3",
   "version": "3.10.16"
  }
 },
 "nbformat": 4,
 "nbformat_minor": 5
}
