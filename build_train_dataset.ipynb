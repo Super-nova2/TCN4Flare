{
 "cells": [
  {
   "cell_type": "code",
   "execution_count": 1,
   "id": "0d9c7af9",
   "metadata": {},
   "outputs": [
    {
     "name": "stderr",
     "output_type": "stream",
     "text": [
      "2025-04-14 12:42:39.492354: I tensorflow/core/platform/cpu_feature_guard.cc:182] This TensorFlow binary is optimized to use available CPU instructions in performance-critical operations.\n",
      "To enable the following instructions: AVX2 FMA, in other operations, rebuild TensorFlow with the appropriate compiler flags.\n",
      "2025-04-14 12:42:40.027791: W tensorflow/compiler/tf2tensorrt/utils/py_utils.cc:38] TF-TRT Warning: Could not find TensorRT\n",
      "/home/supernova/anaconda3/envs/tensorflow/lib/python3.10/site-packages/tensorflow_addons/utils/tfa_eol_msg.py:23: UserWarning: \n",
      "\n",
      "TensorFlow Addons (TFA) has ended development and introduction of new features.\n",
      "TFA has entered a minimal maintenance and release mode until a planned end of life in May 2024.\n",
      "Please modify downstream libraries to take dependencies from other repositories in our TensorFlow community (e.g. Keras, Keras-CV, and Keras-NLP). \n",
      "\n",
      "For more information see: https://github.com/tensorflow/addons/issues/2807 \n",
      "\n",
      "  warnings.warn(\n",
      "/home/supernova/anaconda3/envs/tensorflow/lib/python3.10/site-packages/tensorflow_addons/utils/ensure_tf_install.py:53: UserWarning: Tensorflow Addons supports using Python ops for all Tensorflow versions above or equal to 2.13.0 and strictly below 2.16.0 (nightly versions are not supported). \n",
      " The versions of TensorFlow you are currently using is 2.12.0 and is not supported. \n",
      "Some things might work, some things might not.\n",
      "If you were to encounter a bug, do not file an issue.\n",
      "If you want to make sure you're using a tested and supported configuration, either change the TensorFlow version or the TensorFlow Addons's version. \n",
      "You can find the compatibility matrix in TensorFlow Addon's readme:\n",
      "https://github.com/tensorflow/addons\n",
      "  warnings.warn(\n"
     ]
    }
   ],
   "source": [
    "from model import *\n",
    "from utils import *\n",
    "from dataset import *"
   ]
  },
  {
   "cell_type": "code",
   "execution_count": null,
   "id": "1948047c",
   "metadata": {},
   "outputs": [],
   "source": [
    "file_path = r'./TCN4Flare_agn_data/'\n",
    "sub_path = 'ztf_agns/'\n",
    "data_path = r'./TCN4Flare_agn_data/dataset/'"
   ]
  },
  {
   "cell_type": "code",
   "execution_count": 3,
   "id": "bf3ea37c",
   "metadata": {},
   "outputs": [
    {
     "name": "stdout",
     "output_type": "stream",
     "text": [
      "Flare dataset shape: (12067, 4404, 3)\n",
      "Flare params shape: (12067, 8)\n"
     ]
    }
   ],
   "source": [
    "Flare_Dataset = FlareDataset(file_path, sub_path, data_path)\n",
    "\n",
    "raw_flare_dataset, flare_params = Flare_Dataset.extarct_data_insert_flares('zg')\n",
    "\n",
    "print('Flare dataset shape:', raw_flare_dataset.shape)\n",
    "print('Flare params shape:', flare_params.shape)"
   ]
  },
  {
   "cell_type": "code",
   "execution_count": 4,
   "id": "954fd6b0",
   "metadata": {},
   "outputs": [
    {
     "name": "stderr",
     "output_type": "stream",
     "text": [
      "/home/supernova/anaconda3/envs/tensorflow/lib/python3.10/site-packages/celerite/terms.py:566: RuntimeWarning: overflow encountered in double_scalars\n",
      "  return (w0*S0, w0*w0*S0/self.eps, w0, self.eps)\n",
      "/home/supernova/anaconda3/envs/tensorflow/lib/python3.10/site-packages/scipy/optimize/_numdiff.py:596: RuntimeWarning: invalid value encountered in subtract\n",
      "  df = fun(x1) - f0\n",
      "/home/supernova/anaconda3/envs/tensorflow/lib/python3.10/site-packages/celerite/terms.py:564: RuntimeWarning: overflow encountered in exp\n",
      "  w0 = np.sqrt(3.0) * np.exp(-log_rho)\n",
      "/home/supernova/anaconda3/envs/tensorflow/lib/python3.10/site-packages/celerite/terms.py:566: RuntimeWarning: invalid value encountered in double_scalars\n",
      "  return (w0*S0, w0*w0*S0/self.eps, w0, self.eps)\n"
     ]
    },
    {
     "name": "stdout",
     "output_type": "stream",
     "text": [
      "(12067, 2167, 3)\n",
      "(12067, 10)\n",
      "(0,)\n"
     ]
    }
   ],
   "source": [
    "# if may take a long time to run, please be patient.\n",
    "fit_flare_dataset, flare_agn_params, fail_agns = Flare_Dataset.GP_fit_raw_dataset(band='zg', raw_dataset=raw_flare_dataset, agn_params=flare_params)\n",
    "print(fit_flare_dataset.shape)\n",
    "print(flare_agn_params.shape)\n",
    "print(fail_agns.shape)"
   ]
  },
  {
   "cell_type": "code",
   "execution_count": 5,
   "id": "9c52b320",
   "metadata": {},
   "outputs": [
    {
     "name": "stdout",
     "output_type": "stream",
     "text": [
      "(705, 2167, 3)\n",
      "(705, 6)\n"
     ]
    }
   ],
   "source": [
    "# checked_idx = []\n",
    "\n",
    "# # check if the flare flux is less than 100, if yes, delete the row\n",
    "# for i in range(fit_flare_dataset.shape[0]):\n",
    "#     flux = fit_flare_dataset[i,:,1]\n",
    "#     if flux.max() < 100:\n",
    "#         checked_idx.append(i)\n",
    "\n",
    "# fit_flare_dataset = np.delete(fit_flare_dataset, checked_idx, axis=0)\n",
    "# flare_agn_params = np.delete(flare_agn_params, checked_idx, axis=0)\n",
    "\n",
    "# Directly load checked flare dataset and agn parameters, Num = 705\n",
    "flare_dataset_all = np.load(r'./data/fit_checked_flares.npz')\n",
    "flare_dataset = flare_dataset_all['data']\n",
    "flare_agn_params = flare_dataset_all['parms']   # parms contains: objid，t_start，t_end，t_duration，mag_peak，shape。(705, 1, 6)\n",
    "\n",
    "print(flare_dataset.shape)\n",
    "print(flare_agn_params.shape)"
   ]
  },
  {
   "cell_type": "code",
   "execution_count": 6,
   "id": "8927dc96",
   "metadata": {},
   "outputs": [
    {
     "name": "stdout",
     "output_type": "stream",
     "text": [
      "(17037, 4404, 3)\n",
      "(17037, 3)\n",
      "2963\n"
     ]
    }
   ],
   "source": [
    "noflare_Dataset = dataset(file_path, sub_path, data_path)\n",
    "raw_noflare_dataset, noflare_agn_params, empty_files = noflare_Dataset.extract_data(band='zg')\n",
    "\n",
    "print(raw_noflare_dataset.shape)\n",
    "print(noflare_agn_params.shape)\n",
    "print(len(empty_files))"
   ]
  },
  {
   "cell_type": "code",
   "execution_count": null,
   "id": "22bbcd29",
   "metadata": {},
   "outputs": [],
   "source": [
    "fit_noflare_dataset, noflare_agn_params, fail_agns = noflare_Dataset.GP_fit_raw_dataset('zg', raw_noflare_dataset, noflare_agn_params)\n",
    "\n",
    "print(fit_noflare_dataset.shape)\n",
    "print(noflare_agn_params.shape)"
   ]
  },
  {
   "cell_type": "code",
   "execution_count": 8,
   "id": "0fb592ea",
   "metadata": {},
   "outputs": [
    {
     "name": "stdout",
     "output_type": "stream",
     "text": [
      "(19710, 2167, 3)\n"
     ]
    }
   ],
   "source": [
    "# idx = []    # check noflare dataset, find the index of the data with flare\n",
    "# noflare_dataset = np.delete(fit_noflare_dataset, idx, axis=0)\n",
    "# noflare_agn_params = np.delete(noflare_agn_params, idx, axis=0)\n",
    "\n",
    "# Directly load checked noflare dataset\n",
    "noflare_dataset = np.load(r'./data/fit_checked_noflares.npy')\n",
    "\n",
    "print(noflare_dataset.shape)"
   ]
  },
  {
   "cell_type": "code",
   "execution_count": 10,
   "id": "eaa00752",
   "metadata": {},
   "outputs": [
    {
     "name": "stdout",
     "output_type": "stream",
     "text": [
      "(5000, 2167, 3) (5000,)\n"
     ]
    }
   ],
   "source": [
    "train_dataset , train_labels = build_dataset(flare_dataset, noflare_dataset, save_path=r'./data/', save_name='train_dataset', ratio=0.1, num = 5000)\n",
    "\n",
    "print(train_dataset.shape, train_labels.shape)"
   ]
  }
 ],
 "metadata": {
  "kernelspec": {
   "display_name": "tensorflow",
   "language": "python",
   "name": "python3"
  },
  "language_info": {
   "codemirror_mode": {
    "name": "ipython",
    "version": 3
   },
   "file_extension": ".py",
   "mimetype": "text/x-python",
   "name": "python",
   "nbconvert_exporter": "python",
   "pygments_lexer": "ipython3",
   "version": "3.10.16"
  }
 },
 "nbformat": 4,
 "nbformat_minor": 5
}
